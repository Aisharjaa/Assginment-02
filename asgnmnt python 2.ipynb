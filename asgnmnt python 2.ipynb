{
 "cells": [
  {
   "cell_type": "code",
   "execution_count": 2,
   "metadata": {},
   "outputs": [
    {
     "name": "stdout",
     "output_type": "stream",
     "text": [
      "Enter the height of the rectangle: 2\n",
      "Enter the width of the rectangle: 3\n",
      "Rectangle as the asterisks \n",
      "* * * \n",
      "* * * \n"
     ]
    }
   ],
   "source": [
    "##Q.1 Write a function called rectangle that takes two integers m and n as arguments and prints out an m × n box consisting of asterisks.\n",
    "\n",
    "def Rectangle(m,n):\n",
    "    for i in range(m):\n",
    "        for j in range(n):\n",
    "            print(end='* ')\n",
    "        print()\n",
    "a=int(input('Enter the height of the rectangle: '))\n",
    "b=int(input('Enter the width of the rectangle: '))\n",
    "print('Rectangle as the asterisks ')\n",
    "Rectangle(a,b)"
   ]
  },
  {
   "cell_type": "code",
   "execution_count": 4,
   "metadata": {},
   "outputs": [
    {
     "name": "stdout",
     "output_type": "stream",
     "text": [
      "How many lines do you want?3\n",
      "Enter your text:aisharaa\n",
      "Enter your text:das\n",
      "Enter your text:aisha\n",
      "['aisharaa!', 'das!', 'aisha!']\n"
     ]
    }
   ],
   "source": [
    "##Q.2 Write a function called add_excitement that takes a list of strings and adds an exclamation point ( ! ) to the end of each string in the list. The program should modify the original list and not return anything.\n",
    "\n",
    "def add_excitment(list): ##a function to take strings \n",
    "    i=0\n",
    "    while i<len(list):\n",
    "        list[i]=list[i]+'!'\n",
    "        i=i+1\n",
    "a=input('How many lines do you want?')\n",
    "a=int(a)\n",
    "str_list=['s'] * a\n",
    "j=0\n",
    "while j<len(str_list):\n",
    "    str_list[j]=input('Enter your text:')\n",
    "    j=j+1\n",
    "add_excitment(str_list)\n",
    "print(str_list)"
   ]
  },
  {
   "cell_type": "code",
   "execution_count": 6,
   "metadata": {},
   "outputs": [
    {
     "name": "stdout",
     "output_type": "stream",
     "text": [
      "How many lines do you want?3\n",
      "Enter your text:aish\n",
      "Enter your text:ar\n",
      "Enter your text:jaa\n",
      "Before Calling The Function\n",
      "Input List : ['aish', 'ar', 'jaa']\n",
      "After Calling The Function\n",
      "Input List:  ['aish', 'ar', 'jaa']\n",
      "New List:  ['aish!', 'ar!', 'jaa!']\n"
     ]
    }
   ],
   "source": [
    "##Q.3 Write the same function except that it should not modify the original list and should instead return a new list.\n",
    "\n",
    "def add_excitment(list): ##this funtion takes string charecter\n",
    "    new_list=[]\n",
    "    i=0\n",
    "    while i<len(list):\n",
    "        new_list.insert(i,list[i]+'!')\n",
    "        i=i+1\n",
    "    return new_list\n",
    "a=input('How many lines do you want?')\n",
    "a=int(a)\n",
    "str_list=['s'] * a\n",
    "j=0\n",
    "while j<len(str_list):\n",
    "    str_list[j]=input('Enter your text:')\n",
    "    j=j+1\n",
    "print('Before Calling The Function\\nInput List :',str_list)\n",
    "res_list=add_excitment(str_list) ##function calling\n",
    "print('After Calling The Function\\nInput List: ',str_list)\n",
    "print('New List: ',res_list)"
   ]
  },
  {
   "cell_type": "code",
   "execution_count": 9,
   "metadata": {},
   "outputs": [
    {
     "name": "stdout",
     "output_type": "stream",
     "text": [
      "Input the number 231\n",
      "Digital Root of 231 is 6\n"
     ]
    }
   ],
   "source": [
    "##Q.4 The digital root of a number n is obtained as follows: Add up the digits n to get a new number. Add up the digits of that to get another new number. Keep doing this until you get a number that has only one digit. That number is the digital root. For example, if n = 45893 , we add up the digits to get 4 + 5 + 8 + 9 + 3 = 29 . We then add up the digits of 29 to get 2 + 9 = 11 . We then add up the digits of 11 to get 1 + 1 = 2 . Since 2 has only one digit, 2 is our digital root. Write a function that returns the digital root of an integer n . [Note: there is a shortcut, where the digital root is equal to n mod 9, but do not use that here.]\n",
    "\n",
    "def sum(n):\n",
    "    sum=0\n",
    "    for a in n:\n",
    "        sum=sum+int(a)\n",
    "    return sum\n",
    "def digital_root(num): \n",
    "    x=sum(num)\n",
    "    while x>9:\n",
    "        y=str(x)\n",
    "        x=sum(y)\n",
    "    return x\n",
    "i=input('Input the number ')\n",
    "d=digital_root(i) ##calling the function\n",
    "print('Digital Root of',i,'is',d)\n"
   ]
  },
  {
   "cell_type": "code",
   "execution_count": null,
   "metadata": {},
   "outputs": [],
   "source": []
  }
 ],
 "metadata": {
  "kernelspec": {
   "display_name": "Python 3",
   "language": "python",
   "name": "python3"
  },
  "language_info": {
   "codemirror_mode": {
    "name": "ipython",
    "version": 3
   },
   "file_extension": ".py",
   "mimetype": "text/x-python",
   "name": "python",
   "nbconvert_exporter": "python",
   "pygments_lexer": "ipython3",
   "version": "3.7.1"
  }
 },
 "nbformat": 4,
 "nbformat_minor": 2
}
