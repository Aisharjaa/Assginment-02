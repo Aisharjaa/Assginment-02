{
 "cells": [
  {
   "cell_type": "code",
   "execution_count": 4,
   "metadata": {},
   "outputs": [
    {
     "name": "stdout",
     "output_type": "stream",
     "text": [
      "Enter A Number: 2\n",
      "The Random Value of 2 digit is : 32\n"
     ]
    }
   ],
   "source": [
    "##Q.5 Write a function that takes an integer n and returns a random integer with exactly n digits. For instance, if n is 3, then 125 and 593 would be valid return values, but 093 would not because that is really 93, which is a two-digit number.\n",
    "\n",
    "def random_digit(num): ##function for random digits\n",
    "    x=int(num)   \n",
    "    i=1\n",
    "    low='1'\n",
    "    while i<x:\n",
    "        low=low+'0'\n",
    "        i=i+1\n",
    "        \n",
    "    high=low+'0'\n",
    "    low=int(low)\n",
    "    high=int(high)-1\n",
    "    \n",
    "    import random\n",
    "    z=random.randint(low,high)\n",
    "    return z\n",
    "\n",
    "a=input('Enter A Number: ')\n",
    "s=random_digit(a) ##callig the function\n",
    "print('The Random Value of',a,'digit is :',s)"
   ]
  },
  {
   "cell_type": "code",
   "execution_count": 5,
   "metadata": {},
   "outputs": [
    {
     "name": "stdout",
     "output_type": "stream",
     "text": [
      "Enter any word:aisharaa\n",
      "Enter another word:das\n",
      "the words have 1 matches\n"
     ]
    }
   ],
   "source": [
    "##Q.6 Write a function called matches that takes two strings as arguments and returns how many matches there are between the strings. A match is where the two strings have the same character at the same index. For instance, ' python ' and ' path ' match in the first, third, and fourth characters, so the function should return 3.\n",
    "\n",
    "def matches(str_1,str_2): ## function that takes strings charecter and returns matches\n",
    "    num_1=len(str_1)\n",
    "    num_2=len(str_2)\n",
    "    res=0\n",
    "    i=0\n",
    "    if(num_1<num_2):\n",
    "        while(i<num_1):\n",
    "            if(str_1[i]==str_2[i]):\n",
    "                res=res+1\n",
    "            i=i+1\n",
    "    else:\n",
    "        while(i<num_2):\n",
    "            if(str_1[i]==str_2[i]):\n",
    "                res=res+1\n",
    "            i=i+1\n",
    "    return res\n",
    "a=input(\"Enter any word:\")\n",
    "b=input('Enter another word:')\n",
    "z=matches(a,b) ##calling that function\n",
    "print('the words have',z,'matches')"
   ]
  },
  {
   "cell_type": "code",
   "execution_count": 7,
   "metadata": {},
   "outputs": [
    {
     "name": "stdout",
     "output_type": "stream",
     "text": [
      "Enter a range that you want to have all prime numbers:12\n",
      "Prime Numbers upto 12 \n",
      " [2, 3, 5, 7, 11]\n"
     ]
    }
   ],
   "source": [
    "##Q.7 Write a function called primes that is given a number n and returns a list of the first n primes. Let the default value of n be 100.\n",
    "\n",
    "def primes(n): ## function for primes\n",
    "    list_index=0\n",
    "    my_list=[]\n",
    "    i=2\n",
    "    while i<=n:\n",
    "        is_prime=True\n",
    "        j=2\n",
    "        while is_prime==True and j<i:\n",
    "            if i%j==0:\n",
    "                is_prime=False\n",
    "            j=j+1\n",
    "        if is_prime==True:\n",
    "            my_list.insert(list_index,i)\n",
    "            list_index=list_index+1\n",
    "        i=i+1\n",
    "    return my_list\n",
    "a=int(input('Enter a range that you want to have all prime numbers:'))\n",
    "prime_list=primes(a) ##function calling\n",
    "print('Prime Numbers upto',a,'\\n',prime_list)"
   ]
  },
  {
   "cell_type": "code",
   "execution_count": 9,
   "metadata": {},
   "outputs": [
    {
     "name": "stdout",
     "output_type": "stream",
     "text": [
      "Enter a String: aisharjaa\n",
      "Enter a Character: a\n",
      "The position's of character a in the string\n",
      " [0, 4, 7, 8]\n"
     ]
    }
   ],
   "source": [
    "##Q.8 Recall that if s is a string, then s.find( ' a ' ) will find the location of the first a in s . The problem is that it does not find the location of every a. Write a function called findall that given a string and a single character, returns a list containing all of the locations of that character in the string. It should return an empty list if there are no occurrences of the character in the string.\n",
    "\n",
    "def function(string,character):\n",
    "    my_list=[]\n",
    "    list_index=0\n",
    "    j=0\n",
    "    for c in string:\n",
    "        if c==character:\n",
    "            my_list.insert(list_index,j)\n",
    "            list_index=list_index+1\n",
    "        j=j+1\n",
    "    return my_list\n",
    "my_string=input('Enter a String: ')\n",
    "my_character=input('Enter a Character: ')\n",
    "res_list=function(my_string,my_character)\n",
    "print(\"The position's of character\",my_character,'in the string\\n',res_list)\n"
   ]
  },
  {
   "cell_type": "code",
   "execution_count": null,
   "metadata": {},
   "outputs": [],
   "source": []
  }
 ],
 "metadata": {
  "kernelspec": {
   "display_name": "Python 3",
   "language": "python",
   "name": "python3"
  },
  "language_info": {
   "codemirror_mode": {
    "name": "ipython",
    "version": 3
   },
   "file_extension": ".py",
   "mimetype": "text/x-python",
   "name": "python",
   "nbconvert_exporter": "python",
   "pygments_lexer": "ipython3",
   "version": "3.7.1"
  }
 },
 "nbformat": 4,
 "nbformat_minor": 2
}
